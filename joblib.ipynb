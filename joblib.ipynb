{
 "cells": [
  {
   "cell_type": "markdown",
   "metadata": {},
   "source": [
    "### `joblib`\n",
    "\n",
    "`joblib` 라이브러리는 간단하게 병렬처리를 구현해준다. <br/>\n",
    "단순한 `for`문 등은 병렬처리를 위해 코어별로 작업을 준비하고 할당하고, 결과를 병합하는 과정에서 소요되는 시간 때문에 그 효과를 보기 어렵다."
   ]
  },
  {
   "cell_type": "code",
   "execution_count": 1,
   "metadata": {},
   "outputs": [],
   "source": [
    "from joblib import Parallel, delayed"
   ]
  },
  {
   "cell_type": "code",
   "execution_count": 2,
   "metadata": {},
   "outputs": [],
   "source": [
    "import time\n",
    "\n",
    "def square(num):\n",
    "    return num ** 2"
   ]
  },
  {
   "cell_type": "code",
   "execution_count": 3,
   "metadata": {},
   "outputs": [
    {
     "name": "stdout",
     "output_type": "stream",
     "text": [
      "elapsed time : 3.820474863052368\n"
     ]
    }
   ],
   "source": [
    "start = time.time()\n",
    "\n",
    "results_parellel = Parallel(n_jobs=-1)(delayed(square)(i) for i in range(100000))\n",
    "\n",
    "elapsed = time.time() - start\n",
    "print(f\"elapsed time : {elapsed}\")"
   ]
  }
 ],
 "metadata": {
  "kernelspec": {
   "display_name": "Python 3",
   "language": "python",
   "name": "python3"
  },
  "language_info": {
   "codemirror_mode": {
    "name": "ipython",
    "version": 3
   },
   "file_extension": ".py",
   "mimetype": "text/x-python",
   "name": "python",
   "nbconvert_exporter": "python",
   "pygments_lexer": "ipython3",
   "version": "3.10.2"
  },
  "orig_nbformat": 4
 },
 "nbformat": 4,
 "nbformat_minor": 2
}
